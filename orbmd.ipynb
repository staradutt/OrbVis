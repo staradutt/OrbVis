{
 "cells": [
  {
   "cell_type": "markdown",
   "id": "50d05c64",
   "metadata": {},
   "source": [
    "# Summary\n",
    "\n",
    "**Orbvis** is a lightweight Python package for plotting orbital-projected band structures and density of states (PDOS) using outputs from DFT calculations. It is designed to work specifically with VASP-generated `PROCAR` and `DOSCAR` files and enables researchers to isolate and visualize the contributions of selected orbitals or atoms in complex materials.\n",
    "\n",
    "The tool emphasizes simplicity, efficiency, and high customizability, offering publication-ready plots with minimal setup and no dependency on larger frameworks like `pymatgen`, `sumo`, or `pyprocar`. Unlike many existing packages, **Orbvis** is memory-efficient — it reads large `PROCAR` and `DOSCAR` files line-by-line rather than loading them entirely into memory, which is particularly beneficial when dealing with hybrid functional calculations or large supercells.\n",
    "\n",
    "Key features include:\n",
    "- Selection and visualization of orbital contributions for specific atoms or atom groups\n",
    "- Support for spin-polarized (`ISPIN=2`) and non-spin-polarized (`ISPIN=1`) calculations\n",
    "- Compatibility with hybrid functional (HSE) outputs via automatic detection and removal of non-zero-weighted k-points\n",
    "- K-point cleaning routines to remove duplicate or discontinuous points (e.g., from `KPATH`-generated inputs)\n",
    "- A large suite of color palettes and customization options for fine-tuning the visual output\n",
    "\n",
    "**Orbvis** provides a focused, dependency-light, and user-friendly alternative for researchers looking to generate clean, interpretable band structure and PDOS plots for publication and analysis.\n",
    "\n",
    "# Statement of Need\n",
    "\n",
    "Visualizing orbital contributions in band structure and density of states data is a fundamental part of analyzing electronic structure calculations. While existing tools like `sumo` and `pyprocar` support projected band structure plots, they often rely on heavier infrastructures or external dependencies, which may be unnecessary for users focused solely on orbital projection visualization.\n",
    "\n",
    "Moreover, hybrid functional (HSE) calculations introduce complexities such as non-zero-weighted k-points, which can distort band structure plots if not properly handled. K-point path generation tools like `vaspkit` often create discontinuities and repeated k-points that further complicate plotting. Many existing packages do not robustly address these issues.\n",
    "\n",
    "**Orbvis** addresses these gaps by providing:\n",
    "- A streamlined tool focused solely on orbital-projected band structures and PDOS\n",
    "- Robust handling of k-point path irregularities\n",
    "- Automatic filtering of problematic points in hybrid functional calculations\n",
    "- Atom- and orbital-specific plotting functionality, useful for distinguishing site contributions even among atoms of the same element\n",
    "- Minimal dependencies and simple interface for rapid integration into research workflows\n",
    "\n",
    "This tool empowers users to generate high-quality, customizable plots without needing to adopt a broader infrastructure, making it particularly valuable for rapid analysis, visualization, and publication of DFT results.\n"
   ]
  },
  {
   "cell_type": "markdown",
   "id": "883231ed",
   "metadata": {},
   "source": []
  }
 ],
 "metadata": {
  "language_info": {
   "name": "python"
  }
 },
 "nbformat": 4,
 "nbformat_minor": 5
}
